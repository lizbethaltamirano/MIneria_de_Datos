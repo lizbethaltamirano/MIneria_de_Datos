{
 "cells": [
  {
   "cell_type": "markdown",
   "metadata": {},
   "source": [
    "#### Equipo: 2 Grupo: 002\n",
    "\n",
    "Integrantes:\n",
    "\n",
    "1732753 Altamirano Romo Lizbeth Guadalupe\n",
    "\n",
    "1725005 García Tamez Juan Manuel\n",
    "\n",
    "1813599 González Baltazar Joel Gerardo\n",
    "\n",
    "1797033 Herrera Dueñas Roberto Eduardo"
   ]
  },
  {
   "cell_type": "markdown",
   "metadata": {},
   "source": [
    "# Pokemon"
   ]
  },
  {
   "cell_type": "markdown",
   "metadata": {},
   "source": [
    "### 1) Título de Base de Datos"
   ]
  },
  {
   "cell_type": "markdown",
   "metadata": {},
   "source": [
    "a) Pokemon Stats\n",
    "\n",
    "b) www.kaggle.com/abcsds/pokemon"
   ]
  },
  {
   "cell_type": "markdown",
   "metadata": {},
   "source": [
    "### 2) Descripción de los datos "
   ]
  },
  {
   "cell_type": "markdown",
   "metadata": {},
   "source": [
    "Número de Pokedex (INT)\n",
    "\n",
    "Nombre de Pokemon (STRING)\n",
    "\n",
    "Tipo 1 (STRING)\n",
    "\n",
    "Tipo 2 (STRING)\n",
    "\n",
    "Total (INT)\n",
    "\n",
    "HP (INT)\n",
    "\n",
    "Attack (INT)\n",
    "\n",
    "Defense (INT)\n",
    "\n",
    "Sp. Atk (INT)\n",
    "\n",
    "Sp. Def (INT)\n",
    "\n",
    "Speed (INT)"
   ]
  },
  {
   "cell_type": "markdown",
   "metadata": {},
   "source": [
    "### 3) Justificación del uso de datos\n"
   ]
  },
  {
   "cell_type": "markdown",
   "metadata": {},
   "source": [
    "Lo primero que nos llamo la atención de esta base de datos es que conocemos casi todos los datos y sabemos de que trata el juego, debido a esto nos llamo la atención de los puntajes de ataque y defensa, y con estos datos númericos poder manipularlos para llegar a un objetivo."
   ]
  },
  {
   "cell_type": "markdown",
   "metadata": {},
   "source": [
    "### 4) Objetivo Final "
   ]
  },
  {
   "cell_type": "markdown",
   "metadata": {},
   "source": [
    "OBJETIVO PRINCIPAL:\n",
    "Pronosticar el pokemon que debemos usar para lograr ganar algún tipo de combate tomando en cuenta el tipo de pokemon, el puntaje total, el ataque y la defensa.\n",
    "\n",
    "OBJETIVO SECUNDARIO:\n",
    "Ordenar los pokemon por tipo (agua, fuego, tierra, lucha, etc).\n",
    "Seleccionar 3 de cada tipo y mostrar cual es el mas eficaz."
   ]
  },
  {
   "cell_type": "markdown",
   "metadata": {},
   "source": [
    "\n",
    "### 5 Preguntas de Interes"
   ]
  },
  {
   "cell_type": "markdown",
   "metadata": {},
   "source": [
    "¿Cuáles son los de mayor eficaz respecto a otro?\n",
    "\n",
    "¿Por qué la eficacia es mayor? "
   ]
  },
  {
   "cell_type": "markdown",
   "metadata": {},
   "source": [
    "## Desarrollo de las herramientas \n"
   ]
  },
  {
   "cell_type": "markdown",
   "metadata": {},
   "source": [
    "1. Limpieza de datos\n",
    "\n",
    "Datos sin manipulación, en esta parte solo se muestran los datos excatamente iguales exportados de excel a python."
   ]
  },
  {
   "cell_type": "code",
   "execution_count": 1,
   "metadata": {},
   "outputs": [
    {
     "data": {
      "text/html": [
       "<div>\n",
       "<style scoped>\n",
       "    .dataframe tbody tr th:only-of-type {\n",
       "        vertical-align: middle;\n",
       "    }\n",
       "\n",
       "    .dataframe tbody tr th {\n",
       "        vertical-align: top;\n",
       "    }\n",
       "\n",
       "    .dataframe thead th {\n",
       "        text-align: right;\n",
       "    }\n",
       "</style>\n",
       "<table border=\"1\" class=\"dataframe\">\n",
       "  <thead>\n",
       "    <tr style=\"text-align: right;\">\n",
       "      <th></th>\n",
       "      <th>#</th>\n",
       "      <th>Name</th>\n",
       "      <th>Type 1</th>\n",
       "      <th>Type 2</th>\n",
       "      <th>Total</th>\n",
       "      <th>HP</th>\n",
       "      <th>Attack</th>\n",
       "      <th>Defense</th>\n",
       "      <th>Sp. Atk</th>\n",
       "      <th>Sp. Def</th>\n",
       "      <th>Speed</th>\n",
       "      <th>Generation</th>\n",
       "      <th>Legendary</th>\n",
       "    </tr>\n",
       "  </thead>\n",
       "  <tbody>\n",
       "    <tr>\n",
       "      <th>0</th>\n",
       "      <td>1</td>\n",
       "      <td>Bulbasaur</td>\n",
       "      <td>Grass</td>\n",
       "      <td>Poison</td>\n",
       "      <td>318</td>\n",
       "      <td>45</td>\n",
       "      <td>49</td>\n",
       "      <td>49</td>\n",
       "      <td>65</td>\n",
       "      <td>65</td>\n",
       "      <td>45</td>\n",
       "      <td>1</td>\n",
       "      <td>False</td>\n",
       "    </tr>\n",
       "    <tr>\n",
       "      <th>1</th>\n",
       "      <td>2</td>\n",
       "      <td>Ivysaur</td>\n",
       "      <td>Grass</td>\n",
       "      <td>Poison</td>\n",
       "      <td>405</td>\n",
       "      <td>60</td>\n",
       "      <td>62</td>\n",
       "      <td>63</td>\n",
       "      <td>80</td>\n",
       "      <td>80</td>\n",
       "      <td>60</td>\n",
       "      <td>1</td>\n",
       "      <td>False</td>\n",
       "    </tr>\n",
       "    <tr>\n",
       "      <th>2</th>\n",
       "      <td>3</td>\n",
       "      <td>Venusaur</td>\n",
       "      <td>Grass</td>\n",
       "      <td>Poison</td>\n",
       "      <td>525</td>\n",
       "      <td>80</td>\n",
       "      <td>82</td>\n",
       "      <td>83</td>\n",
       "      <td>100</td>\n",
       "      <td>100</td>\n",
       "      <td>80</td>\n",
       "      <td>1</td>\n",
       "      <td>False</td>\n",
       "    </tr>\n",
       "    <tr>\n",
       "      <th>3</th>\n",
       "      <td>3</td>\n",
       "      <td>VenusaurMega Venusaur</td>\n",
       "      <td>Grass</td>\n",
       "      <td>Poison</td>\n",
       "      <td>625</td>\n",
       "      <td>80</td>\n",
       "      <td>100</td>\n",
       "      <td>123</td>\n",
       "      <td>122</td>\n",
       "      <td>120</td>\n",
       "      <td>80</td>\n",
       "      <td>1</td>\n",
       "      <td>False</td>\n",
       "    </tr>\n",
       "    <tr>\n",
       "      <th>4</th>\n",
       "      <td>4</td>\n",
       "      <td>Charmander</td>\n",
       "      <td>Fire</td>\n",
       "      <td>NaN</td>\n",
       "      <td>309</td>\n",
       "      <td>39</td>\n",
       "      <td>52</td>\n",
       "      <td>43</td>\n",
       "      <td>60</td>\n",
       "      <td>50</td>\n",
       "      <td>65</td>\n",
       "      <td>1</td>\n",
       "      <td>False</td>\n",
       "    </tr>\n",
       "  </tbody>\n",
       "</table>\n",
       "</div>"
      ],
      "text/plain": [
       "   #                   Name Type 1  Type 2  Total  HP  Attack  Defense  \\\n",
       "0  1              Bulbasaur  Grass  Poison    318  45      49       49   \n",
       "1  2                Ivysaur  Grass  Poison    405  60      62       63   \n",
       "2  3               Venusaur  Grass  Poison    525  80      82       83   \n",
       "3  3  VenusaurMega Venusaur  Grass  Poison    625  80     100      123   \n",
       "4  4             Charmander   Fire     NaN    309  39      52       43   \n",
       "\n",
       "   Sp. Atk  Sp. Def  Speed  Generation  Legendary  \n",
       "0       65       65     45           1      False  \n",
       "1       80       80     60           1      False  \n",
       "2      100      100     80           1      False  \n",
       "3      122      120     80           1      False  \n",
       "4       60       50     65           1      False  "
      ]
     },
     "execution_count": 1,
     "metadata": {},
     "output_type": "execute_result"
    }
   ],
   "source": [
    "import pandas as pd\n",
    "d = pd.read_csv('Pokemon.csv')\n",
    "d.head() #muestra las primeras 4 filas de la base de datos"
   ]
  },
  {
   "cell_type": "code",
   "execution_count": 2,
   "metadata": {
    "scrolled": true
   },
   "outputs": [
    {
     "data": {
      "text/html": [
       "<div>\n",
       "<style scoped>\n",
       "    .dataframe tbody tr th:only-of-type {\n",
       "        vertical-align: middle;\n",
       "    }\n",
       "\n",
       "    .dataframe tbody tr th {\n",
       "        vertical-align: top;\n",
       "    }\n",
       "\n",
       "    .dataframe thead th {\n",
       "        text-align: right;\n",
       "    }\n",
       "</style>\n",
       "<table border=\"1\" class=\"dataframe\">\n",
       "  <thead>\n",
       "    <tr style=\"text-align: right;\">\n",
       "      <th></th>\n",
       "      <th>#</th>\n",
       "      <th>Name</th>\n",
       "      <th>Type 1</th>\n",
       "      <th>Type 2</th>\n",
       "      <th>Total</th>\n",
       "      <th>HP</th>\n",
       "      <th>Attack</th>\n",
       "      <th>Defense</th>\n",
       "      <th>Sp. Atk</th>\n",
       "      <th>Sp. Def</th>\n",
       "      <th>Speed</th>\n",
       "      <th>Generation</th>\n",
       "      <th>Legendary</th>\n",
       "    </tr>\n",
       "  </thead>\n",
       "  <tbody>\n",
       "    <tr>\n",
       "      <th>795</th>\n",
       "      <td>719</td>\n",
       "      <td>Diancie</td>\n",
       "      <td>Rock</td>\n",
       "      <td>Fairy</td>\n",
       "      <td>600</td>\n",
       "      <td>50</td>\n",
       "      <td>100</td>\n",
       "      <td>150</td>\n",
       "      <td>100</td>\n",
       "      <td>150</td>\n",
       "      <td>50</td>\n",
       "      <td>6</td>\n",
       "      <td>True</td>\n",
       "    </tr>\n",
       "    <tr>\n",
       "      <th>796</th>\n",
       "      <td>719</td>\n",
       "      <td>DiancieMega Diancie</td>\n",
       "      <td>Rock</td>\n",
       "      <td>Fairy</td>\n",
       "      <td>700</td>\n",
       "      <td>50</td>\n",
       "      <td>160</td>\n",
       "      <td>110</td>\n",
       "      <td>160</td>\n",
       "      <td>110</td>\n",
       "      <td>110</td>\n",
       "      <td>6</td>\n",
       "      <td>True</td>\n",
       "    </tr>\n",
       "    <tr>\n",
       "      <th>797</th>\n",
       "      <td>720</td>\n",
       "      <td>HoopaHoopa Confined</td>\n",
       "      <td>Psychic</td>\n",
       "      <td>Ghost</td>\n",
       "      <td>600</td>\n",
       "      <td>80</td>\n",
       "      <td>110</td>\n",
       "      <td>60</td>\n",
       "      <td>150</td>\n",
       "      <td>130</td>\n",
       "      <td>70</td>\n",
       "      <td>6</td>\n",
       "      <td>True</td>\n",
       "    </tr>\n",
       "    <tr>\n",
       "      <th>798</th>\n",
       "      <td>720</td>\n",
       "      <td>HoopaHoopa Unbound</td>\n",
       "      <td>Psychic</td>\n",
       "      <td>Dark</td>\n",
       "      <td>680</td>\n",
       "      <td>80</td>\n",
       "      <td>160</td>\n",
       "      <td>60</td>\n",
       "      <td>170</td>\n",
       "      <td>130</td>\n",
       "      <td>80</td>\n",
       "      <td>6</td>\n",
       "      <td>True</td>\n",
       "    </tr>\n",
       "    <tr>\n",
       "      <th>799</th>\n",
       "      <td>721</td>\n",
       "      <td>Volcanion</td>\n",
       "      <td>Fire</td>\n",
       "      <td>Water</td>\n",
       "      <td>600</td>\n",
       "      <td>80</td>\n",
       "      <td>110</td>\n",
       "      <td>120</td>\n",
       "      <td>130</td>\n",
       "      <td>90</td>\n",
       "      <td>70</td>\n",
       "      <td>6</td>\n",
       "      <td>True</td>\n",
       "    </tr>\n",
       "  </tbody>\n",
       "</table>\n",
       "</div>"
      ],
      "text/plain": [
       "       #                 Name   Type 1 Type 2  Total  HP  Attack  Defense  \\\n",
       "795  719              Diancie     Rock  Fairy    600  50     100      150   \n",
       "796  719  DiancieMega Diancie     Rock  Fairy    700  50     160      110   \n",
       "797  720  HoopaHoopa Confined  Psychic  Ghost    600  80     110       60   \n",
       "798  720   HoopaHoopa Unbound  Psychic   Dark    680  80     160       60   \n",
       "799  721            Volcanion     Fire  Water    600  80     110      120   \n",
       "\n",
       "     Sp. Atk  Sp. Def  Speed  Generation  Legendary  \n",
       "795      100      150     50           6       True  \n",
       "796      160      110    110           6       True  \n",
       "797      150      130     70           6       True  \n",
       "798      170      130     80           6       True  \n",
       "799      130       90     70           6       True  "
      ]
     },
     "execution_count": 2,
     "metadata": {},
     "output_type": "execute_result"
    }
   ],
   "source": [
    "d.tail() #muestra las ultimas 4 filas de la base de datos"
   ]
  },
  {
   "cell_type": "markdown",
   "metadata": {},
   "source": [
    "En este siguiente paso se eliminan las columnas que no son necesarias para realizar nuestro objetivo."
   ]
  },
  {
   "cell_type": "code",
   "execution_count": 3,
   "metadata": {},
   "outputs": [
    {
     "data": {
      "text/html": [
       "<div>\n",
       "<style scoped>\n",
       "    .dataframe tbody tr th:only-of-type {\n",
       "        vertical-align: middle;\n",
       "    }\n",
       "\n",
       "    .dataframe tbody tr th {\n",
       "        vertical-align: top;\n",
       "    }\n",
       "\n",
       "    .dataframe thead th {\n",
       "        text-align: right;\n",
       "    }\n",
       "</style>\n",
       "<table border=\"1\" class=\"dataframe\">\n",
       "  <thead>\n",
       "    <tr style=\"text-align: right;\">\n",
       "      <th></th>\n",
       "      <th>#</th>\n",
       "      <th>Name</th>\n",
       "      <th>Type 1</th>\n",
       "      <th>Type 2</th>\n",
       "      <th>Total</th>\n",
       "      <th>HP</th>\n",
       "      <th>Attack</th>\n",
       "      <th>Defense</th>\n",
       "      <th>Sp. Atk</th>\n",
       "      <th>Sp. Def</th>\n",
       "      <th>Speed</th>\n",
       "    </tr>\n",
       "  </thead>\n",
       "  <tbody>\n",
       "    <tr>\n",
       "      <th>0</th>\n",
       "      <td>1</td>\n",
       "      <td>Bulbasaur</td>\n",
       "      <td>Grass</td>\n",
       "      <td>Poison</td>\n",
       "      <td>318</td>\n",
       "      <td>45</td>\n",
       "      <td>49</td>\n",
       "      <td>49</td>\n",
       "      <td>65</td>\n",
       "      <td>65</td>\n",
       "      <td>45</td>\n",
       "    </tr>\n",
       "    <tr>\n",
       "      <th>1</th>\n",
       "      <td>2</td>\n",
       "      <td>Ivysaur</td>\n",
       "      <td>Grass</td>\n",
       "      <td>Poison</td>\n",
       "      <td>405</td>\n",
       "      <td>60</td>\n",
       "      <td>62</td>\n",
       "      <td>63</td>\n",
       "      <td>80</td>\n",
       "      <td>80</td>\n",
       "      <td>60</td>\n",
       "    </tr>\n",
       "    <tr>\n",
       "      <th>2</th>\n",
       "      <td>3</td>\n",
       "      <td>Venusaur</td>\n",
       "      <td>Grass</td>\n",
       "      <td>Poison</td>\n",
       "      <td>525</td>\n",
       "      <td>80</td>\n",
       "      <td>82</td>\n",
       "      <td>83</td>\n",
       "      <td>100</td>\n",
       "      <td>100</td>\n",
       "      <td>80</td>\n",
       "    </tr>\n",
       "    <tr>\n",
       "      <th>3</th>\n",
       "      <td>3</td>\n",
       "      <td>VenusaurMega Venusaur</td>\n",
       "      <td>Grass</td>\n",
       "      <td>Poison</td>\n",
       "      <td>625</td>\n",
       "      <td>80</td>\n",
       "      <td>100</td>\n",
       "      <td>123</td>\n",
       "      <td>122</td>\n",
       "      <td>120</td>\n",
       "      <td>80</td>\n",
       "    </tr>\n",
       "    <tr>\n",
       "      <th>4</th>\n",
       "      <td>4</td>\n",
       "      <td>Charmander</td>\n",
       "      <td>Fire</td>\n",
       "      <td>NaN</td>\n",
       "      <td>309</td>\n",
       "      <td>39</td>\n",
       "      <td>52</td>\n",
       "      <td>43</td>\n",
       "      <td>60</td>\n",
       "      <td>50</td>\n",
       "      <td>65</td>\n",
       "    </tr>\n",
       "  </tbody>\n",
       "</table>\n",
       "</div>"
      ],
      "text/plain": [
       "   #                   Name Type 1  Type 2  Total  HP  Attack  Defense  \\\n",
       "0  1              Bulbasaur  Grass  Poison    318  45      49       49   \n",
       "1  2                Ivysaur  Grass  Poison    405  60      62       63   \n",
       "2  3               Venusaur  Grass  Poison    525  80      82       83   \n",
       "3  3  VenusaurMega Venusaur  Grass  Poison    625  80     100      123   \n",
       "4  4             Charmander   Fire     NaN    309  39      52       43   \n",
       "\n",
       "   Sp. Atk  Sp. Def  Speed  \n",
       "0       65       65     45  \n",
       "1       80       80     60  \n",
       "2      100      100     80  \n",
       "3      122      120     80  \n",
       "4       60       50     65  "
      ]
     },
     "execution_count": 3,
     "metadata": {},
     "output_type": "execute_result"
    }
   ],
   "source": [
    "d.drop(columns='Legendary',inplace=True) #Se elimina la columan llamada LEGENDARY\n",
    "d.drop(columns='Generation',inplace=True) #Se elimina la columna llamada GENERATION\n",
    "d.head() #se muestran las primeras 4 filas son las columnas eliminadas."
   ]
  },
  {
   "cell_type": "code",
   "execution_count": 4,
   "metadata": {},
   "outputs": [
    {
     "data": {
      "text/html": [
       "<div>\n",
       "<style scoped>\n",
       "    .dataframe tbody tr th:only-of-type {\n",
       "        vertical-align: middle;\n",
       "    }\n",
       "\n",
       "    .dataframe tbody tr th {\n",
       "        vertical-align: top;\n",
       "    }\n",
       "\n",
       "    .dataframe thead th {\n",
       "        text-align: right;\n",
       "    }\n",
       "</style>\n",
       "<table border=\"1\" class=\"dataframe\">\n",
       "  <thead>\n",
       "    <tr style=\"text-align: right;\">\n",
       "      <th></th>\n",
       "      <th>#</th>\n",
       "      <th>Name</th>\n",
       "      <th>Type 1</th>\n",
       "      <th>Type 2</th>\n",
       "      <th>Total</th>\n",
       "      <th>HP</th>\n",
       "      <th>Attack</th>\n",
       "      <th>Defense</th>\n",
       "      <th>Sp. Atk</th>\n",
       "      <th>Sp. Def</th>\n",
       "      <th>Speed</th>\n",
       "    </tr>\n",
       "  </thead>\n",
       "  <tbody>\n",
       "    <tr>\n",
       "      <th>795</th>\n",
       "      <td>719</td>\n",
       "      <td>Diancie</td>\n",
       "      <td>Rock</td>\n",
       "      <td>Fairy</td>\n",
       "      <td>600</td>\n",
       "      <td>50</td>\n",
       "      <td>100</td>\n",
       "      <td>150</td>\n",
       "      <td>100</td>\n",
       "      <td>150</td>\n",
       "      <td>50</td>\n",
       "    </tr>\n",
       "    <tr>\n",
       "      <th>796</th>\n",
       "      <td>719</td>\n",
       "      <td>DiancieMega Diancie</td>\n",
       "      <td>Rock</td>\n",
       "      <td>Fairy</td>\n",
       "      <td>700</td>\n",
       "      <td>50</td>\n",
       "      <td>160</td>\n",
       "      <td>110</td>\n",
       "      <td>160</td>\n",
       "      <td>110</td>\n",
       "      <td>110</td>\n",
       "    </tr>\n",
       "    <tr>\n",
       "      <th>797</th>\n",
       "      <td>720</td>\n",
       "      <td>HoopaHoopa Confined</td>\n",
       "      <td>Psychic</td>\n",
       "      <td>Ghost</td>\n",
       "      <td>600</td>\n",
       "      <td>80</td>\n",
       "      <td>110</td>\n",
       "      <td>60</td>\n",
       "      <td>150</td>\n",
       "      <td>130</td>\n",
       "      <td>70</td>\n",
       "    </tr>\n",
       "    <tr>\n",
       "      <th>798</th>\n",
       "      <td>720</td>\n",
       "      <td>HoopaHoopa Unbound</td>\n",
       "      <td>Psychic</td>\n",
       "      <td>Dark</td>\n",
       "      <td>680</td>\n",
       "      <td>80</td>\n",
       "      <td>160</td>\n",
       "      <td>60</td>\n",
       "      <td>170</td>\n",
       "      <td>130</td>\n",
       "      <td>80</td>\n",
       "    </tr>\n",
       "    <tr>\n",
       "      <th>799</th>\n",
       "      <td>721</td>\n",
       "      <td>Volcanion</td>\n",
       "      <td>Fire</td>\n",
       "      <td>Water</td>\n",
       "      <td>600</td>\n",
       "      <td>80</td>\n",
       "      <td>110</td>\n",
       "      <td>120</td>\n",
       "      <td>130</td>\n",
       "      <td>90</td>\n",
       "      <td>70</td>\n",
       "    </tr>\n",
       "  </tbody>\n",
       "</table>\n",
       "</div>"
      ],
      "text/plain": [
       "       #                 Name   Type 1 Type 2  Total  HP  Attack  Defense  \\\n",
       "795  719              Diancie     Rock  Fairy    600  50     100      150   \n",
       "796  719  DiancieMega Diancie     Rock  Fairy    700  50     160      110   \n",
       "797  720  HoopaHoopa Confined  Psychic  Ghost    600  80     110       60   \n",
       "798  720   HoopaHoopa Unbound  Psychic   Dark    680  80     160       60   \n",
       "799  721            Volcanion     Fire  Water    600  80     110      120   \n",
       "\n",
       "     Sp. Atk  Sp. Def  Speed  \n",
       "795      100      150     50  \n",
       "796      160      110    110  \n",
       "797      150      130     70  \n",
       "798      170      130     80  \n",
       "799      130       90     70  "
      ]
     },
     "execution_count": 4,
     "metadata": {},
     "output_type": "execute_result"
    }
   ],
   "source": [
    "d.tail() #se muetsran las ultimas 4 filas sin las columnas eliminadas"
   ]
  },
  {
   "cell_type": "code",
   "execution_count": 5,
   "metadata": {},
   "outputs": [
    {
     "data": {
      "text/plain": [
       "#          False\n",
       "Name       False\n",
       "Type 1     False\n",
       "Type 2      True\n",
       "Total      False\n",
       "HP         False\n",
       "Attack     False\n",
       "Defense    False\n",
       "Sp. Atk    False\n",
       "Sp. Def    False\n",
       "Speed      False\n",
       "dtype: bool"
      ]
     },
     "execution_count": 5,
     "metadata": {},
     "output_type": "execute_result"
    }
   ],
   "source": [
    "d.isnull().any() #Datos vacios sin manipulación"
   ]
  },
  {
   "cell_type": "code",
   "execution_count": 6,
   "metadata": {},
   "outputs": [
    {
     "data": {
      "text/plain": [
       "#            0\n",
       "Name         0\n",
       "Type 1       0\n",
       "Type 2     386\n",
       "Total        0\n",
       "HP           0\n",
       "Attack       0\n",
       "Defense      0\n",
       "Sp. Atk      0\n",
       "Sp. Def      0\n",
       "Speed        0\n",
       "dtype: int64"
      ]
     },
     "execution_count": 6,
     "metadata": {},
     "output_type": "execute_result"
    }
   ],
   "source": [
    "d.isnull().sum() #Datos completos con valores cero."
   ]
  },
  {
   "cell_type": "code",
   "execution_count": 7,
   "metadata": {
    "scrolled": true
   },
   "outputs": [
    {
     "data": {
      "text/html": [
       "<div>\n",
       "<style scoped>\n",
       "    .dataframe tbody tr th:only-of-type {\n",
       "        vertical-align: middle;\n",
       "    }\n",
       "\n",
       "    .dataframe tbody tr th {\n",
       "        vertical-align: top;\n",
       "    }\n",
       "\n",
       "    .dataframe thead th {\n",
       "        text-align: right;\n",
       "    }\n",
       "</style>\n",
       "<table border=\"1\" class=\"dataframe\">\n",
       "  <thead>\n",
       "    <tr style=\"text-align: right;\">\n",
       "      <th></th>\n",
       "      <th>#</th>\n",
       "      <th>Name</th>\n",
       "      <th>Type 1</th>\n",
       "      <th>Type 2</th>\n",
       "      <th>Total</th>\n",
       "      <th>HP</th>\n",
       "      <th>Attack</th>\n",
       "      <th>Defense</th>\n",
       "      <th>Sp. Atk</th>\n",
       "      <th>Sp. Def</th>\n",
       "      <th>Speed</th>\n",
       "    </tr>\n",
       "  </thead>\n",
       "  <tbody>\n",
       "    <tr>\n",
       "      <th>0</th>\n",
       "      <td>1</td>\n",
       "      <td>Bulbasaur</td>\n",
       "      <td>Grass</td>\n",
       "      <td>Poison</td>\n",
       "      <td>318</td>\n",
       "      <td>45</td>\n",
       "      <td>49</td>\n",
       "      <td>49</td>\n",
       "      <td>65</td>\n",
       "      <td>65</td>\n",
       "      <td>45</td>\n",
       "    </tr>\n",
       "    <tr>\n",
       "      <th>1</th>\n",
       "      <td>2</td>\n",
       "      <td>Ivysaur</td>\n",
       "      <td>Grass</td>\n",
       "      <td>Poison</td>\n",
       "      <td>405</td>\n",
       "      <td>60</td>\n",
       "      <td>62</td>\n",
       "      <td>63</td>\n",
       "      <td>80</td>\n",
       "      <td>80</td>\n",
       "      <td>60</td>\n",
       "    </tr>\n",
       "    <tr>\n",
       "      <th>2</th>\n",
       "      <td>3</td>\n",
       "      <td>Venusaur</td>\n",
       "      <td>Grass</td>\n",
       "      <td>Poison</td>\n",
       "      <td>525</td>\n",
       "      <td>80</td>\n",
       "      <td>82</td>\n",
       "      <td>83</td>\n",
       "      <td>100</td>\n",
       "      <td>100</td>\n",
       "      <td>80</td>\n",
       "    </tr>\n",
       "    <tr>\n",
       "      <th>3</th>\n",
       "      <td>3</td>\n",
       "      <td>VenusaurMega Venusaur</td>\n",
       "      <td>Grass</td>\n",
       "      <td>Poison</td>\n",
       "      <td>625</td>\n",
       "      <td>80</td>\n",
       "      <td>100</td>\n",
       "      <td>123</td>\n",
       "      <td>122</td>\n",
       "      <td>120</td>\n",
       "      <td>80</td>\n",
       "    </tr>\n",
       "    <tr>\n",
       "      <th>4</th>\n",
       "      <td>4</td>\n",
       "      <td>Charmander</td>\n",
       "      <td>Fire</td>\n",
       "      <td>NA</td>\n",
       "      <td>309</td>\n",
       "      <td>39</td>\n",
       "      <td>52</td>\n",
       "      <td>43</td>\n",
       "      <td>60</td>\n",
       "      <td>50</td>\n",
       "      <td>65</td>\n",
       "    </tr>\n",
       "    <tr>\n",
       "      <th>...</th>\n",
       "      <td>...</td>\n",
       "      <td>...</td>\n",
       "      <td>...</td>\n",
       "      <td>...</td>\n",
       "      <td>...</td>\n",
       "      <td>...</td>\n",
       "      <td>...</td>\n",
       "      <td>...</td>\n",
       "      <td>...</td>\n",
       "      <td>...</td>\n",
       "      <td>...</td>\n",
       "    </tr>\n",
       "    <tr>\n",
       "      <th>795</th>\n",
       "      <td>719</td>\n",
       "      <td>Diancie</td>\n",
       "      <td>Rock</td>\n",
       "      <td>Fairy</td>\n",
       "      <td>600</td>\n",
       "      <td>50</td>\n",
       "      <td>100</td>\n",
       "      <td>150</td>\n",
       "      <td>100</td>\n",
       "      <td>150</td>\n",
       "      <td>50</td>\n",
       "    </tr>\n",
       "    <tr>\n",
       "      <th>796</th>\n",
       "      <td>719</td>\n",
       "      <td>DiancieMega Diancie</td>\n",
       "      <td>Rock</td>\n",
       "      <td>Fairy</td>\n",
       "      <td>700</td>\n",
       "      <td>50</td>\n",
       "      <td>160</td>\n",
       "      <td>110</td>\n",
       "      <td>160</td>\n",
       "      <td>110</td>\n",
       "      <td>110</td>\n",
       "    </tr>\n",
       "    <tr>\n",
       "      <th>797</th>\n",
       "      <td>720</td>\n",
       "      <td>HoopaHoopa Confined</td>\n",
       "      <td>Psychic</td>\n",
       "      <td>Ghost</td>\n",
       "      <td>600</td>\n",
       "      <td>80</td>\n",
       "      <td>110</td>\n",
       "      <td>60</td>\n",
       "      <td>150</td>\n",
       "      <td>130</td>\n",
       "      <td>70</td>\n",
       "    </tr>\n",
       "    <tr>\n",
       "      <th>798</th>\n",
       "      <td>720</td>\n",
       "      <td>HoopaHoopa Unbound</td>\n",
       "      <td>Psychic</td>\n",
       "      <td>Dark</td>\n",
       "      <td>680</td>\n",
       "      <td>80</td>\n",
       "      <td>160</td>\n",
       "      <td>60</td>\n",
       "      <td>170</td>\n",
       "      <td>130</td>\n",
       "      <td>80</td>\n",
       "    </tr>\n",
       "    <tr>\n",
       "      <th>799</th>\n",
       "      <td>721</td>\n",
       "      <td>Volcanion</td>\n",
       "      <td>Fire</td>\n",
       "      <td>Water</td>\n",
       "      <td>600</td>\n",
       "      <td>80</td>\n",
       "      <td>110</td>\n",
       "      <td>120</td>\n",
       "      <td>130</td>\n",
       "      <td>90</td>\n",
       "      <td>70</td>\n",
       "    </tr>\n",
       "  </tbody>\n",
       "</table>\n",
       "<p>800 rows × 11 columns</p>\n",
       "</div>"
      ],
      "text/plain": [
       "       #                   Name   Type 1  Type 2  Total  HP  Attack  Defense  \\\n",
       "0      1              Bulbasaur    Grass  Poison    318  45      49       49   \n",
       "1      2                Ivysaur    Grass  Poison    405  60      62       63   \n",
       "2      3               Venusaur    Grass  Poison    525  80      82       83   \n",
       "3      3  VenusaurMega Venusaur    Grass  Poison    625  80     100      123   \n",
       "4      4             Charmander     Fire      NA    309  39      52       43   \n",
       "..   ...                    ...      ...     ...    ...  ..     ...      ...   \n",
       "795  719                Diancie     Rock   Fairy    600  50     100      150   \n",
       "796  719    DiancieMega Diancie     Rock   Fairy    700  50     160      110   \n",
       "797  720    HoopaHoopa Confined  Psychic   Ghost    600  80     110       60   \n",
       "798  720     HoopaHoopa Unbound  Psychic    Dark    680  80     160       60   \n",
       "799  721              Volcanion     Fire   Water    600  80     110      120   \n",
       "\n",
       "     Sp. Atk  Sp. Def  Speed  \n",
       "0         65       65     45  \n",
       "1         80       80     60  \n",
       "2        100      100     80  \n",
       "3        122      120     80  \n",
       "4         60       50     65  \n",
       "..       ...      ...    ...  \n",
       "795      100      150     50  \n",
       "796      160      110    110  \n",
       "797      150      130     70  \n",
       "798      170      130     80  \n",
       "799      130       90     70  \n",
       "\n",
       "[800 rows x 11 columns]"
      ]
     },
     "execution_count": 7,
     "metadata": {},
     "output_type": "execute_result"
    }
   ],
   "source": [
    "d = d.fillna('NA') #Se llenan las celdas no numericas vacias con las letras NA\n",
    "dnew = d.fillna(0) #Se llenan las celdas numericas vacias con el valor 0\n",
    "d"
   ]
  },
  {
   "cell_type": "code",
   "execution_count": 8,
   "metadata": {},
   "outputs": [],
   "source": [
    "import pandas as pd\n",
    "\n",
    "d = pd.read_csv('Pokemon.csv')\n",
    "d.head()\n",
    "\n",
    "d.drop(columns='Legendary',inplace=True)\n",
    "d.drop(columns='Generation',inplace=True)\n",
    "d.head()\n",
    "\n",
    "d = d.fillna('No hay')\n",
    "d.head()\n",
    "\n",
    "d.to_csv('Pokemon_limpio.csv', index=False)\n",
    "\n",
    "\n",
    "#El archivo nuevo se ha creado y ahora lo podemos usar ya que se ha modificaco para nuestro uso y beneficio "
   ]
  },
  {
   "cell_type": "markdown",
   "metadata": {},
   "source": [
    "2. Estadística básica"
   ]
  },
  {
   "cell_type": "markdown",
   "metadata": {},
   "source": [
    "#### (Speed)\n",
    "\n",
    "count    800.000000\n",
    "\n",
    "mean      71.902500\n",
    "\n",
    "std       27.828916\n",
    "\n",
    "min       20.000000\n",
    "\n",
    "25%       50.000000\n",
    "\n",
    "50%       70.000000\n",
    "\n",
    "75%       90.000000\n",
    "\n",
    "max      230.000000\n",
    "\n",
    "Name: Sp. Def, dtype: float64\n",
    "\n",
    "#### (Ataque)\n",
    "\n",
    "count    800.000000\n",
    "\n",
    "mean      79.001250\n",
    "\n",
    "std       32.457366\n",
    "\n",
    "min        5.000000\n",
    "\n",
    "25%       55.000000\n",
    "\n",
    "50%       75.000000\n",
    "\n",
    "75%      100.000000\n",
    "\n",
    "max      190.000000\n",
    "\n",
    "Name: Attack, dtype: float64\n",
    "\n",
    "De la práctica Num. 2 recabamos la información de (Velocidad, Ataque) para así hacer las gráficas necesarias para visualizar mejor la información y enfocar nuestro objetivo de proponer el mejor pokemon para derrotar al pokemon rival."
   ]
  },
  {
   "cell_type": "markdown",
   "metadata": {},
   "source": [
    "3. Gráficas"
   ]
  },
  {
   "cell_type": "code",
   "execution_count": 11,
   "metadata": {},
   "outputs": [],
   "source": [
    "import pandas as pd\n",
    "import matplotlib as plt\n",
    "%matplotlib inline\n",
    "pok = pd.read_csv('Pokemon_limpio.csv')"
   ]
  },
  {
   "cell_type": "code",
   "execution_count": 12,
   "metadata": {},
   "outputs": [
    {
     "data": {
      "text/plain": [
       "<AxesSubplot:ylabel='Frequency'>"
      ]
     },
     "execution_count": 12,
     "metadata": {},
     "output_type": "execute_result"
    },
    {
     "data": {
      "image/png": "[encoded data removed]",
      "text/plain": [
       "<Figure size 432x288 with 1 Axes>"
      ]
     },
     "metadata": {
      "needs_background": "light"
     },
     "output_type": "display_data"
    }
   ],
   "source": [
    "pok[pok['Speed'] < 50]['Attack'].plot.hist()"
   ]
  },
  {
   "cell_type": "markdown",
   "metadata": {},
   "source": [
    "En esta gráfica la usamos para tomar los valores del intervalo de 60 a 80, dado que nos da los pokemones con mayor ataque y velocidad para mayor eficacia contra el rival y de los pokemones encontrados en ese intervalo vamos a extraer a los 5 más fuertes de cada tipo de pokemon."
   ]
  },
  {
   "cell_type": "code",
   "execution_count": 13,
   "metadata": {},
   "outputs": [
    {
     "data": {
      "text/plain": [
       "<AxesSubplot:xlabel='Speed', ylabel='Attack'>"
      ]
     },
     "execution_count": 13,
     "metadata": {},
     "output_type": "execute_result"
    },
    {
     "data": {
      "image/png": "[encoded data removed]",
      "text/plain": [
       "<Figure size 432x288 with 1 Axes>"
      ]
     },
     "metadata": {
      "needs_background": "light"
     },
     "output_type": "display_data"
    }
   ],
   "source": [
    "pok[pok['Speed'] < 80].plot.scatter(x='Speed', y='Attack')"
   ]
  },
  {
   "cell_type": "markdown",
   "metadata": {},
   "source": [
    "Esta gráfica de puntos la usamos para ver que tan dispersos estan los tipos de pokemon en relación a ataque y velocidad para la hora de elegir a los 5 de cada tipo, exista una cantidad suficiente y justa."
   ]
  },
  {
   "cell_type": "code",
   "execution_count": 15,
   "metadata": {},
   "outputs": [
    {
     "data": {
      "text/plain": [
       "<AxesSubplot:>"
      ]
     },
     "execution_count": 15,
     "metadata": {},
     "output_type": "execute_result"
    },
    {
     "data": {
      "image/png": "[encoded data removed]",
      "text/plain": [
       "<Figure size 432x288 with 1 Axes>"
      ]
     },
     "metadata": {
      "needs_background": "light"
     },
     "output_type": "display_data"
    }
   ],
   "source": [
    "pok.plot.bar(stacked=True)"
   ]
  },
  {
   "cell_type": "markdown",
   "metadata": {},
   "source": [
    "En este gráfico quisimos ver en intervalos las cantidades acumuladas de todos los pokemon y enfocarnos en los picos más altos para filtrar en que intervalos los pokemones son mas fuertes."
   ]
  },
  {
   "cell_type": "code",
   "execution_count": 16,
   "metadata": {},
   "outputs": [
    {
     "data": {
      "text/plain": [
       "<AxesSubplot:>"
      ]
     },
     "execution_count": 16,
     "metadata": {},
     "output_type": "execute_result"
    },
    {
     "data": {
      "image/png": "[encoded data removed]",
      "text/plain": [
       "<Figure size 432x288 with 1 Axes>"
      ]
     },
     "metadata": {
      "needs_background": "light"
     },
     "output_type": "display_data"
    }
   ],
   "source": [
    "pok.plot.area()"
   ]
  },
  {
   "cell_type": "markdown",
   "metadata": {},
   "source": [
    "Y por último en este gráfico hicimos resaltar la velocidad de ataque de toda la lista de los pokemon para verificar que los resultados anteriores estén acorde a este último gráfico dado que es mas visual a la hora de filrar la lista."
   ]
  },
  {
   "cell_type": "markdown",
   "metadata": {},
   "source": [
    "Como conclusión, cambiamos de estrategia en la busqueda de los datos del puntaje de ataque y defensa, a buscar el ataque y la velocidad, ya que al buscar un pokemon para atacar con eficacia para vencer a tu rival encontramos que el pokemon con mayor ataque y velocidad en convinación del tipo de pokemon es mas fácil simplificar la lista."
   ]
  },
  {
   "cell_type": "markdown",
   "metadata": {},
   "source": [
    "# Videojuegos"
   ]
  },
  {
   "cell_type": "markdown",
   "metadata": {},
   "source": [
    "## 1) Título de Base de Datos"
   ]
  },
  {
   "cell_type": "markdown",
   "metadata": {},
   "source": [
    "a) Videogames sales\n",
    "\n",
    "b) www.kaggle.com/migeruj/videogames-predictive-model"
   ]
  },
  {
   "cell_type": "markdown",
   "metadata": {},
   "source": [
    "## 2) Descripción de los datos"
   ]
  },
  {
   "cell_type": "markdown",
   "metadata": {},
   "source": [
    "Plataforma (string)\n",
    "\n",
    "Género (string)\n",
    "\n",
    "Editor (string)\n",
    "\n",
    "Número de ventas América Nte (int)\n",
    "\n",
    "Número de ventas Europa (int)\n",
    "\n",
    "Número de ventas Japón(int)\n",
    "\n",
    "Ventas totales(int)\n",
    "\n",
    "Clasificación ESRB (string)\n",
    "\n",
    "Puntuación de la crítica (string)"
   ]
  },
  {
   "cell_type": "markdown",
   "metadata": {},
   "source": [
    "## 3) Justificación del uso de datos"
   ]
  },
  {
   "cell_type": "markdown",
   "metadata": {},
   "source": [
    "Para este proyecto tomamos mucho en cuenta las personas gamers que cada que sale un video juego nuevo son las más interesadas\n",
    "en este tipo de reseñas o ayudas, ya que les dá una referencia para adquirir o no el video juego, ya que ayuda un poco a la \n",
    "economía del jugador, nuestro objetivo con el usuario es dar un buena recomendación para futuros jugadores y compradores de \n",
    "este tipo de juegos que son adquisidores de diferentes consolas de videojuegos."
   ]
  },
  {
   "cell_type": "markdown",
   "metadata": {},
   "source": [
    "## 4) Objetivo final"
   ]
  },
  {
   "cell_type": "markdown",
   "metadata": {},
   "source": [
    "Dar un listado de los juegos con mejores críticas y ventas alrededor del mundo,\n",
    "clasificando por géneros para brindar mejor información y recomendación para futuros jugadores que deseen comprar algún \n",
    "videojuego de cierto género en específico."
   ]
  },
  {
   "cell_type": "markdown",
   "metadata": {},
   "source": [
    "## Desarrollo de las herramientas "
   ]
  },
  {
   "cell_type": "markdown",
   "metadata": {},
   "source": [
    "1. Limpieza de datos"
   ]
  },
  {
   "cell_type": "code",
   "execution_count": 17,
   "metadata": {},
   "outputs": [
    {
     "data": {
      "text/html": [
       "<div>\n",
       "<style scoped>\n",
       "    .dataframe tbody tr th:only-of-type {\n",
       "        vertical-align: middle;\n",
       "    }\n",
       "\n",
       "    .dataframe tbody tr th {\n",
       "        vertical-align: top;\n",
       "    }\n",
       "\n",
       "    .dataframe thead th {\n",
       "        text-align: right;\n",
       "    }\n",
       "</style>\n",
       "<table border=\"1\" class=\"dataframe\">\n",
       "  <thead>\n",
       "    <tr style=\"text-align: right;\">\n",
       "      <th></th>\n",
       "      <th>Platform</th>\n",
       "      <th>Genre</th>\n",
       "      <th>Publisher</th>\n",
       "      <th>NA_Sales</th>\n",
       "      <th>EU_Sales</th>\n",
       "      <th>JP_Sales</th>\n",
       "      <th>Other_Sales</th>\n",
       "      <th>Global_Sales</th>\n",
       "      <th>Rating</th>\n",
       "      <th>Critic_Score_Class</th>\n",
       "    </tr>\n",
       "  </thead>\n",
       "  <tbody>\n",
       "    <tr>\n",
       "      <th>0</th>\n",
       "      <td>Wii</td>\n",
       "      <td>Sports</td>\n",
       "      <td>Nintendo</td>\n",
       "      <td>41,36</td>\n",
       "      <td>28,96</td>\n",
       "      <td>3,77</td>\n",
       "      <td>8,45</td>\n",
       "      <td>82,54</td>\n",
       "      <td>E</td>\n",
       "      <td>Bueno</td>\n",
       "    </tr>\n",
       "    <tr>\n",
       "      <th>1</th>\n",
       "      <td>Wii</td>\n",
       "      <td>Racing</td>\n",
       "      <td>Nintendo</td>\n",
       "      <td>15,68</td>\n",
       "      <td>12,8</td>\n",
       "      <td>3,79</td>\n",
       "      <td>3,29</td>\n",
       "      <td>35,57</td>\n",
       "      <td>E</td>\n",
       "      <td>Excelente</td>\n",
       "    </tr>\n",
       "    <tr>\n",
       "      <th>2</th>\n",
       "      <td>Wii</td>\n",
       "      <td>Sports</td>\n",
       "      <td>Nintendo</td>\n",
       "      <td>15,61</td>\n",
       "      <td>10,95</td>\n",
       "      <td>3,28</td>\n",
       "      <td>2,95</td>\n",
       "      <td>32,78</td>\n",
       "      <td>E</td>\n",
       "      <td>Excelente</td>\n",
       "    </tr>\n",
       "    <tr>\n",
       "      <th>3</th>\n",
       "      <td>DS</td>\n",
       "      <td>Platform</td>\n",
       "      <td>Nintendo</td>\n",
       "      <td>11,28</td>\n",
       "      <td>9,15</td>\n",
       "      <td>6,5</td>\n",
       "      <td>2,88</td>\n",
       "      <td>29,81</td>\n",
       "      <td>E</td>\n",
       "      <td>Excelente</td>\n",
       "    </tr>\n",
       "    <tr>\n",
       "      <th>4</th>\n",
       "      <td>Wii</td>\n",
       "      <td>Misc</td>\n",
       "      <td>Nintendo</td>\n",
       "      <td>13,96</td>\n",
       "      <td>9,18</td>\n",
       "      <td>2,93</td>\n",
       "      <td>2,84</td>\n",
       "      <td>28,92</td>\n",
       "      <td>E</td>\n",
       "      <td>Malo</td>\n",
       "    </tr>\n",
       "  </tbody>\n",
       "</table>\n",
       "</div>"
      ],
      "text/plain": [
       "  Platform     Genre Publisher NA_Sales EU_Sales JP_Sales Other_Sales  \\\n",
       "0      Wii    Sports  Nintendo    41,36    28,96     3,77        8,45   \n",
       "1      Wii    Racing  Nintendo    15,68     12,8     3,79        3,29   \n",
       "2      Wii    Sports  Nintendo    15,61    10,95     3,28        2,95   \n",
       "3       DS  Platform  Nintendo    11,28     9,15      6,5        2,88   \n",
       "4      Wii      Misc  Nintendo    13,96     9,18     2,93        2,84   \n",
       "\n",
       "  Global_Sales Rating Critic_Score_Class  \n",
       "0        82,54      E              Bueno  \n",
       "1        35,57      E          Excelente  \n",
       "2        32,78      E          Excelente  \n",
       "3        29,81      E          Excelente  \n",
       "4        28,92      E               Malo  "
      ]
     },
     "execution_count": 17,
     "metadata": {},
     "output_type": "execute_result"
    }
   ],
   "source": [
    "import pandas as pd\n",
    "d2 = pd.read_csv('dato.csv')\n",
    "d2.head()"
   ]
  },
  {
   "cell_type": "code",
   "execution_count": 18,
   "metadata": {},
   "outputs": [
    {
     "data": {
      "text/html": [
       "<div>\n",
       "<style scoped>\n",
       "    .dataframe tbody tr th:only-of-type {\n",
       "        vertical-align: middle;\n",
       "    }\n",
       "\n",
       "    .dataframe tbody tr th {\n",
       "        vertical-align: top;\n",
       "    }\n",
       "\n",
       "    .dataframe thead th {\n",
       "        text-align: right;\n",
       "    }\n",
       "</style>\n",
       "<table border=\"1\" class=\"dataframe\">\n",
       "  <thead>\n",
       "    <tr style=\"text-align: right;\">\n",
       "      <th></th>\n",
       "      <th>Platform</th>\n",
       "      <th>Genre</th>\n",
       "      <th>Publisher</th>\n",
       "      <th>NA_Sales</th>\n",
       "      <th>EU_Sales</th>\n",
       "      <th>JP_Sales</th>\n",
       "      <th>Other_Sales</th>\n",
       "      <th>Global_Sales</th>\n",
       "      <th>Rating</th>\n",
       "      <th>Critic_Score_Class</th>\n",
       "    </tr>\n",
       "  </thead>\n",
       "  <tbody>\n",
       "    <tr>\n",
       "      <th>7107</th>\n",
       "      <td>PC</td>\n",
       "      <td>Action</td>\n",
       "      <td>Ubisoft</td>\n",
       "      <td>0</td>\n",
       "      <td>0</td>\n",
       "      <td>0</td>\n",
       "      <td>0</td>\n",
       "      <td>0,01</td>\n",
       "      <td>T</td>\n",
       "      <td>Excelente</td>\n",
       "    </tr>\n",
       "    <tr>\n",
       "      <th>7108</th>\n",
       "      <td>PC</td>\n",
       "      <td>Shooter</td>\n",
       "      <td>Midway Games</td>\n",
       "      <td>0</td>\n",
       "      <td>0</td>\n",
       "      <td>0</td>\n",
       "      <td>0</td>\n",
       "      <td>0,01</td>\n",
       "      <td>T</td>\n",
       "      <td>Aceptable</td>\n",
       "    </tr>\n",
       "    <tr>\n",
       "      <th>7109</th>\n",
       "      <td>PC</td>\n",
       "      <td>Sports</td>\n",
       "      <td>Sega</td>\n",
       "      <td>0</td>\n",
       "      <td>0</td>\n",
       "      <td>0</td>\n",
       "      <td>0</td>\n",
       "      <td>0,01</td>\n",
       "      <td>E</td>\n",
       "      <td>Aceptable</td>\n",
       "    </tr>\n",
       "    <tr>\n",
       "      <th>7110</th>\n",
       "      <td>PC</td>\n",
       "      <td>Strategy</td>\n",
       "      <td>Take-Two Interactive</td>\n",
       "      <td>0</td>\n",
       "      <td>0</td>\n",
       "      <td>0</td>\n",
       "      <td>0</td>\n",
       "      <td>0,01</td>\n",
       "      <td>E10+</td>\n",
       "      <td>Aceptable</td>\n",
       "    </tr>\n",
       "    <tr>\n",
       "      <th>7111</th>\n",
       "      <td>PS4</td>\n",
       "      <td>Platform</td>\n",
       "      <td>Team Meat</td>\n",
       "      <td>0</td>\n",
       "      <td>0</td>\n",
       "      <td>0</td>\n",
       "      <td>0</td>\n",
       "      <td>0,01</td>\n",
       "      <td>T</td>\n",
       "      <td>Excelente</td>\n",
       "    </tr>\n",
       "  </tbody>\n",
       "</table>\n",
       "</div>"
      ],
      "text/plain": [
       "     Platform     Genre             Publisher NA_Sales EU_Sales JP_Sales  \\\n",
       "7107       PC    Action               Ubisoft        0        0        0   \n",
       "7108       PC   Shooter          Midway Games        0        0        0   \n",
       "7109       PC    Sports                  Sega        0        0        0   \n",
       "7110       PC  Strategy  Take-Two Interactive        0        0        0   \n",
       "7111      PS4  Platform             Team Meat        0        0        0   \n",
       "\n",
       "     Other_Sales Global_Sales Rating Critic_Score_Class  \n",
       "7107           0         0,01      T          Excelente  \n",
       "7108           0         0,01      T          Aceptable  \n",
       "7109           0         0,01      E          Aceptable  \n",
       "7110           0         0,01   E10+          Aceptable  \n",
       "7111           0         0,01      T          Excelente  "
      ]
     },
     "execution_count": 18,
     "metadata": {},
     "output_type": "execute_result"
    }
   ],
   "source": [
    "d2.tail()"
   ]
  },
  {
   "cell_type": "code",
   "execution_count": 19,
   "metadata": {},
   "outputs": [
    {
     "data": {
      "text/html": [
       "<div>\n",
       "<style scoped>\n",
       "    .dataframe tbody tr th:only-of-type {\n",
       "        vertical-align: middle;\n",
       "    }\n",
       "\n",
       "    .dataframe tbody tr th {\n",
       "        vertical-align: top;\n",
       "    }\n",
       "\n",
       "    .dataframe thead th {\n",
       "        text-align: right;\n",
       "    }\n",
       "</style>\n",
       "<table border=\"1\" class=\"dataframe\">\n",
       "  <thead>\n",
       "    <tr style=\"text-align: right;\">\n",
       "      <th></th>\n",
       "      <th>Platform</th>\n",
       "      <th>Genre</th>\n",
       "      <th>Publisher</th>\n",
       "      <th>NA_Sales</th>\n",
       "      <th>EU_Sales</th>\n",
       "      <th>JP_Sales</th>\n",
       "      <th>Global_Sales</th>\n",
       "      <th>Rating</th>\n",
       "      <th>Critic_Score_Class</th>\n",
       "    </tr>\n",
       "  </thead>\n",
       "  <tbody>\n",
       "    <tr>\n",
       "      <th>0</th>\n",
       "      <td>Wii</td>\n",
       "      <td>Sports</td>\n",
       "      <td>Nintendo</td>\n",
       "      <td>41,36</td>\n",
       "      <td>28,96</td>\n",
       "      <td>3,77</td>\n",
       "      <td>82,54</td>\n",
       "      <td>E</td>\n",
       "      <td>Bueno</td>\n",
       "    </tr>\n",
       "    <tr>\n",
       "      <th>1</th>\n",
       "      <td>Wii</td>\n",
       "      <td>Racing</td>\n",
       "      <td>Nintendo</td>\n",
       "      <td>15,68</td>\n",
       "      <td>12,8</td>\n",
       "      <td>3,79</td>\n",
       "      <td>35,57</td>\n",
       "      <td>E</td>\n",
       "      <td>Excelente</td>\n",
       "    </tr>\n",
       "    <tr>\n",
       "      <th>2</th>\n",
       "      <td>Wii</td>\n",
       "      <td>Sports</td>\n",
       "      <td>Nintendo</td>\n",
       "      <td>15,61</td>\n",
       "      <td>10,95</td>\n",
       "      <td>3,28</td>\n",
       "      <td>32,78</td>\n",
       "      <td>E</td>\n",
       "      <td>Excelente</td>\n",
       "    </tr>\n",
       "    <tr>\n",
       "      <th>3</th>\n",
       "      <td>DS</td>\n",
       "      <td>Platform</td>\n",
       "      <td>Nintendo</td>\n",
       "      <td>11,28</td>\n",
       "      <td>9,15</td>\n",
       "      <td>6,5</td>\n",
       "      <td>29,81</td>\n",
       "      <td>E</td>\n",
       "      <td>Excelente</td>\n",
       "    </tr>\n",
       "    <tr>\n",
       "      <th>4</th>\n",
       "      <td>Wii</td>\n",
       "      <td>Misc</td>\n",
       "      <td>Nintendo</td>\n",
       "      <td>13,96</td>\n",
       "      <td>9,18</td>\n",
       "      <td>2,93</td>\n",
       "      <td>28,92</td>\n",
       "      <td>E</td>\n",
       "      <td>Malo</td>\n",
       "    </tr>\n",
       "  </tbody>\n",
       "</table>\n",
       "</div>"
      ],
      "text/plain": [
       "  Platform     Genre Publisher NA_Sales EU_Sales JP_Sales Global_Sales Rating  \\\n",
       "0      Wii    Sports  Nintendo    41,36    28,96     3,77        82,54      E   \n",
       "1      Wii    Racing  Nintendo    15,68     12,8     3,79        35,57      E   \n",
       "2      Wii    Sports  Nintendo    15,61    10,95     3,28        32,78      E   \n",
       "3       DS  Platform  Nintendo    11,28     9,15      6,5        29,81      E   \n",
       "4      Wii      Misc  Nintendo    13,96     9,18     2,93        28,92      E   \n",
       "\n",
       "  Critic_Score_Class  \n",
       "0              Bueno  \n",
       "1          Excelente  \n",
       "2          Excelente  \n",
       "3          Excelente  \n",
       "4               Malo  "
      ]
     },
     "execution_count": 19,
     "metadata": {},
     "output_type": "execute_result"
    }
   ],
   "source": [
    "d2.drop(columns='Other_Sales',inplace=True)\n",
    "d2.head()\n",
    "# Eliminamos la columna Other Sales porque nos queremos enfocar en las ventas de países más importantes."
   ]
  },
  {
   "cell_type": "code",
   "execution_count": 20,
   "metadata": {},
   "outputs": [
    {
     "data": {
      "text/html": [
       "<div>\n",
       "<style scoped>\n",
       "    .dataframe tbody tr th:only-of-type {\n",
       "        vertical-align: middle;\n",
       "    }\n",
       "\n",
       "    .dataframe tbody tr th {\n",
       "        vertical-align: top;\n",
       "    }\n",
       "\n",
       "    .dataframe thead th {\n",
       "        text-align: right;\n",
       "    }\n",
       "</style>\n",
       "<table border=\"1\" class=\"dataframe\">\n",
       "  <thead>\n",
       "    <tr style=\"text-align: right;\">\n",
       "      <th></th>\n",
       "      <th>Platform</th>\n",
       "      <th>Genre</th>\n",
       "      <th>Publisher</th>\n",
       "      <th>NA_Sales</th>\n",
       "      <th>EU_Sales</th>\n",
       "      <th>JP_Sales</th>\n",
       "      <th>Global_Sales</th>\n",
       "      <th>Rating</th>\n",
       "      <th>Critic_Score_Class</th>\n",
       "    </tr>\n",
       "  </thead>\n",
       "  <tbody>\n",
       "    <tr>\n",
       "      <th>7107</th>\n",
       "      <td>PC</td>\n",
       "      <td>Action</td>\n",
       "      <td>Ubisoft</td>\n",
       "      <td>0</td>\n",
       "      <td>0</td>\n",
       "      <td>0</td>\n",
       "      <td>0,01</td>\n",
       "      <td>T</td>\n",
       "      <td>Excelente</td>\n",
       "    </tr>\n",
       "    <tr>\n",
       "      <th>7108</th>\n",
       "      <td>PC</td>\n",
       "      <td>Shooter</td>\n",
       "      <td>Midway Games</td>\n",
       "      <td>0</td>\n",
       "      <td>0</td>\n",
       "      <td>0</td>\n",
       "      <td>0,01</td>\n",
       "      <td>T</td>\n",
       "      <td>Aceptable</td>\n",
       "    </tr>\n",
       "    <tr>\n",
       "      <th>7109</th>\n",
       "      <td>PC</td>\n",
       "      <td>Sports</td>\n",
       "      <td>Sega</td>\n",
       "      <td>0</td>\n",
       "      <td>0</td>\n",
       "      <td>0</td>\n",
       "      <td>0,01</td>\n",
       "      <td>E</td>\n",
       "      <td>Aceptable</td>\n",
       "    </tr>\n",
       "    <tr>\n",
       "      <th>7110</th>\n",
       "      <td>PC</td>\n",
       "      <td>Strategy</td>\n",
       "      <td>Take-Two Interactive</td>\n",
       "      <td>0</td>\n",
       "      <td>0</td>\n",
       "      <td>0</td>\n",
       "      <td>0,01</td>\n",
       "      <td>E10+</td>\n",
       "      <td>Aceptable</td>\n",
       "    </tr>\n",
       "    <tr>\n",
       "      <th>7111</th>\n",
       "      <td>PS4</td>\n",
       "      <td>Platform</td>\n",
       "      <td>Team Meat</td>\n",
       "      <td>0</td>\n",
       "      <td>0</td>\n",
       "      <td>0</td>\n",
       "      <td>0,01</td>\n",
       "      <td>T</td>\n",
       "      <td>Excelente</td>\n",
       "    </tr>\n",
       "  </tbody>\n",
       "</table>\n",
       "</div>"
      ],
      "text/plain": [
       "     Platform     Genre             Publisher NA_Sales EU_Sales JP_Sales  \\\n",
       "7107       PC    Action               Ubisoft        0        0        0   \n",
       "7108       PC   Shooter          Midway Games        0        0        0   \n",
       "7109       PC    Sports                  Sega        0        0        0   \n",
       "7110       PC  Strategy  Take-Two Interactive        0        0        0   \n",
       "7111      PS4  Platform             Team Meat        0        0        0   \n",
       "\n",
       "     Global_Sales Rating Critic_Score_Class  \n",
       "7107         0,01      T          Excelente  \n",
       "7108         0,01      T          Aceptable  \n",
       "7109         0,01      E          Aceptable  \n",
       "7110         0,01   E10+          Aceptable  \n",
       "7111         0,01      T          Excelente  "
      ]
     },
     "execution_count": 20,
     "metadata": {},
     "output_type": "execute_result"
    }
   ],
   "source": [
    "d2.tail()"
   ]
  },
  {
   "cell_type": "code",
   "execution_count": 21,
   "metadata": {},
   "outputs": [
    {
     "data": {
      "text/plain": [
       "Platform              False\n",
       "Genre                 False\n",
       "Publisher             False\n",
       "NA_Sales              False\n",
       "EU_Sales              False\n",
       "JP_Sales              False\n",
       "Global_Sales          False\n",
       "Rating                False\n",
       "Critic_Score_Class    False\n",
       "dtype: bool"
      ]
     },
     "execution_count": 21,
     "metadata": {},
     "output_type": "execute_result"
    }
   ],
   "source": [
    "d2.isnull().any()"
   ]
  },
  {
   "cell_type": "code",
   "execution_count": 22,
   "metadata": {},
   "outputs": [
    {
     "data": {
      "text/plain": [
       "Platform              0\n",
       "Genre                 0\n",
       "Publisher             0\n",
       "NA_Sales              0\n",
       "EU_Sales              0\n",
       "JP_Sales              0\n",
       "Global_Sales          0\n",
       "Rating                0\n",
       "Critic_Score_Class    0\n",
       "dtype: int64"
      ]
     },
     "execution_count": 22,
     "metadata": {},
     "output_type": "execute_result"
    }
   ],
   "source": [
    "d2.isnull().sum()"
   ]
  },
  {
   "cell_type": "code",
   "execution_count": 23,
   "metadata": {},
   "outputs": [],
   "source": [
    "import pandas as pd\n",
    "\n",
    "d2 = pd.read_csv(\"dato.csv\")\n",
    "d2.head()\n",
    "\n",
    "d2.drop(columns='Other_Sales', inplace=True)\n",
    "d2.head()\n",
    "\n",
    "d2.to_csv('dato_limpio.csv', index=False)"
   ]
  },
  {
   "cell_type": "code",
   "execution_count": 25,
   "metadata": {},
   "outputs": [],
   "source": [
    "#Cambiamos Los valores de object a float\n",
    "d2['NA_Sales'] = d2['NA_Sales'].str.replace(\",\", \".\")\n",
    "d2['NA_Sales'] = d2['NA_Sales'].astype(float) \n",
    "\n",
    "d2['EU_Sales'] = d2['EU_Sales'].str.replace(\",\", \".\")\n",
    "d2['EU_Sales'] = d2['EU_Sales'].astype(float)\n",
    "\n",
    "d2['JP_Sales'] = d2['JP_Sales'].str.replace(\",\", \".\")\n",
    "d2['JP_Sales'] = d2['JP_Sales'].astype(float)\n",
    "\n",
    "d2['Global_Sales'] = d2['Global_Sales'].str.replace(\",\", \".\")\n",
    "d2['Global_Sales'] = d2['Global_Sales'].astype(float)\n"
   ]
  },
  {
   "cell_type": "markdown",
   "metadata": {},
   "source": [
    "2. Estadistica básica de los datos"
   ]
  },
  {
   "cell_type": "code",
   "execution_count": 27,
   "metadata": {},
   "outputs": [
    {
     "name": "stdout",
     "output_type": "stream",
     "text": [
      "0.38856721034872505\n",
      "0.2325365579302462\n",
      "0.06265185601799672\n",
      "0.7653065241844924\n"
     ]
    }
   ],
   "source": [
    "#Promedio\n",
    "print(d2['NA_Sales'].mean())\n",
    "print(d2['EU_Sales'].mean())\n",
    "print(d2['JP_Sales'].mean())\n",
    "print(d2['Global_Sales'].mean())"
   ]
  },
  {
   "cell_type": "code",
   "execution_count": 28,
   "metadata": {},
   "outputs": [
    {
     "name": "stdout",
     "output_type": "stream",
     "text": [
      "\n",
      "2763.4900000000002\n",
      "1653.8000000000002\n",
      "445.58\n",
      "5442.860000000001\n"
     ]
    }
   ],
   "source": [
    "print() #Suma o totales\n",
    "\n",
    "print(d2['NA_Sales'].sum())\n",
    "print(d2['EU_Sales'].sum())\n",
    "print(d2['JP_Sales'].sum())\n",
    "print(d2['Global_Sales'].sum())"
   ]
  },
  {
   "cell_type": "code",
   "execution_count": 29,
   "metadata": {},
   "outputs": [
    {
     "name": "stdout",
     "output_type": "stream",
     "text": [
      "\n",
      "0         41.36\n",
      "1         57.04\n",
      "2         72.65\n",
      "3         83.93\n",
      "4         97.89\n",
      "         ...   \n",
      "7107    2763.49\n",
      "7108    2763.49\n",
      "7109    2763.49\n",
      "7110    2763.49\n",
      "7111    2763.49\n",
      "Name: NA_Sales, Length: 7112, dtype: float64\n",
      "0         28.96\n",
      "1         41.76\n",
      "2         52.71\n",
      "3         61.86\n",
      "4         71.04\n",
      "         ...   \n",
      "7107    1653.80\n",
      "7108    1653.80\n",
      "7109    1653.80\n",
      "7110    1653.80\n",
      "7111    1653.80\n",
      "Name: EU_Sales, Length: 7112, dtype: float64\n",
      "0         3.77\n",
      "1         7.56\n",
      "2        10.84\n",
      "3        17.34\n",
      "4        20.27\n",
      "         ...  \n",
      "7107    445.58\n",
      "7108    445.58\n",
      "7109    445.58\n",
      "7110    445.58\n",
      "7111    445.58\n",
      "Name: JP_Sales, Length: 7112, dtype: float64\n",
      "0         82.54\n",
      "1        118.11\n",
      "2        150.89\n",
      "3        180.70\n",
      "4        209.62\n",
      "         ...   \n",
      "7107    5442.82\n",
      "7108    5442.83\n",
      "7109    5442.84\n",
      "7110    5442.85\n",
      "7111    5442.86\n",
      "Name: Global_Sales, Length: 7112, dtype: float64\n"
     ]
    }
   ],
   "source": [
    "print() #Funcion acumulada\n",
    "\n",
    "print(d2['NA_Sales'].cumsum())\n",
    "print(d2['EU_Sales'].cumsum())\n",
    "print(d2['JP_Sales'].cumsum())\n",
    "print(d2['Global_Sales'].cumsum())"
   ]
  },
  {
   "cell_type": "code",
   "execution_count": 30,
   "metadata": {},
   "outputs": [
    {
     "name": "stdout",
     "output_type": "stream",
     "text": [
      "\n",
      "0.15\n",
      "0.06\n",
      "0.0\n",
      "0.29\n"
     ]
    }
   ],
   "source": [
    "print() #Mediana\n",
    "\n",
    "print(d2['NA_Sales'].median())\n",
    "print(d2['EU_Sales'].median())\n",
    "print(d2['JP_Sales'].median())\n",
    "print(d2['Global_Sales'].median())"
   ]
  },
  {
   "cell_type": "code",
   "execution_count": 31,
   "metadata": {},
   "outputs": [
    {
     "name": "stdout",
     "output_type": "stream",
     "text": [
      "\n",
      "0.9100821684535865\n",
      "0.4624383125431987\n",
      "0.08035792237318368\n",
      "3.7507768431695867\n"
     ]
    }
   ],
   "source": [
    "print() #Varianza\n",
    "\n",
    "print(d2['NA_Sales'].var())\n",
    "print(d2['EU_Sales'].var())\n",
    "print(d2['JP_Sales'].var())\n",
    "print(d2['Global_Sales'].var())\n"
   ]
  },
  {
   "cell_type": "code",
   "execution_count": 32,
   "metadata": {},
   "outputs": [
    {
     "name": "stdout",
     "output_type": "stream",
     "text": [
      "\n",
      "count    7112.000000\n",
      "mean        0.388567\n",
      "std         0.953982\n",
      "min         0.000000\n",
      "25%         0.060000\n",
      "50%         0.150000\n",
      "75%         0.390000\n",
      "max        41.360000\n",
      "Name: NA_Sales, dtype: float64\n",
      "count    7112.000000\n",
      "mean        0.232537\n",
      "std         0.680028\n",
      "min         0.000000\n",
      "25%         0.020000\n",
      "50%         0.060000\n",
      "75%         0.202500\n",
      "max        28.960000\n",
      "Name: EU_Sales, dtype: float64\n",
      "count    7112.000000\n",
      "mean        0.062652\n",
      "std         0.283475\n",
      "min         0.000000\n",
      "25%         0.000000\n",
      "50%         0.000000\n",
      "75%         0.010000\n",
      "max         6.500000\n",
      "Name: JP_Sales, dtype: float64\n",
      "count    7112.000000\n",
      "mean        0.765307\n",
      "std         1.936692\n",
      "min         0.010000\n",
      "25%         0.110000\n",
      "50%         0.290000\n",
      "75%         0.742500\n",
      "max        82.540000\n",
      "Name: Global_Sales, dtype: float64\n"
     ]
    }
   ],
   "source": [
    "print() #Descripcion con max y min y mas cosas\n",
    "\n",
    "print(d2['NA_Sales'].describe())\n",
    "print(d2['EU_Sales'].describe())\n",
    "print(d2['JP_Sales'].describe())\n",
    "print(d2['Global_Sales'].describe())"
   ]
  },
  {
   "cell_type": "markdown",
   "metadata": {},
   "source": [
    "Estas nos facilitan el conseguir resultados necesarios para los cálculos y análisis estadísticos y ver \n",
    "como se comportan nuestros datos."
   ]
  },
  {
   "cell_type": "markdown",
   "metadata": {},
   "source": [
    "3. Gráficas"
   ]
  },
  {
   "cell_type": "code",
   "execution_count": 35,
   "metadata": {},
   "outputs": [],
   "source": [
    "import pandas as pd\n",
    "import seaborn as sns\n",
    "import matplotlib.pyplot as plt"
   ]
  },
  {
   "cell_type": "code",
   "execution_count": 36,
   "metadata": {},
   "outputs": [
    {
     "data": {
      "text/plain": [
       "<AxesSubplot:>"
      ]
     },
     "execution_count": 36,
     "metadata": {},
     "output_type": "execute_result"
    },
    {
     "data": {
      "image/png": "[encoded data removed]",
      "text/plain": [
       "<Figure size 432x288 with 1 Axes>"
      ]
     },
     "metadata": {
      "needs_background": "light"
     },
     "output_type": "display_data"
    },
    {
     "data": {
      "image/png": "[encoded data removed]",
      "text/plain": [
       "<Figure size 432x288 with 1 Axes>"
      ]
     },
     "metadata": {
      "needs_background": "light"
     },
     "output_type": "display_data"
    }
   ],
   "source": [
    "d2['NA_Sales'].value_counts().plot.line()\n",
    "d2['EU_Sales'].value_counts().plot.line()\n",
    "\n",
    "d2['NA_Sales'].value_counts().plot.bar()\n",
    "d2['EU_Sales'].value_counts().plot.bar()\n",
    "\n",
    "\n",
    "d2[d2['NA_Sales'] < 10].plot.area()"
   ]
  },
  {
   "cell_type": "markdown",
   "metadata": {},
   "source": [
    "Estas dos gráficas nos ayudan a comprar las ventas en las partes del mundo."
   ]
  },
  {
   "cell_type": "code",
   "execution_count": 37,
   "metadata": {},
   "outputs": [
    {
     "data": {
      "text/plain": [
       "<AxesSubplot:xlabel='NA_Sales', ylabel='Global_Sales'>"
      ]
     },
     "execution_count": 37,
     "metadata": {},
     "output_type": "execute_result"
    },
    {
     "data": {
      "image/png": "[encoded data removed]",
      "text/plain": [
       "<Figure size 432x288 with 1 Axes>"
      ]
     },
     "metadata": {
      "needs_background": "light"
     },
     "output_type": "display_data"
    }
   ],
   "source": [
    "sf = d2[d2.NA_Sales.isin(d2[d2['NA_Sales'] <5]['NA_Sales'].value_counts().head(5).index)]\n",
    "sns.boxplot(\n",
    "    x='NA_Sales',\n",
    "    y='Global_Sales',\n",
    "    data=sf\n",
    ")"
   ]
  },
  {
   "cell_type": "markdown",
   "metadata": {},
   "source": [
    "Nos ayuda para conocer la dispersión de nuestros datos de cada venta \"local\" en las ventas globales."
   ]
  },
  {
   "cell_type": "code",
   "execution_count": 38,
   "metadata": {},
   "outputs": [
    {
     "data": {
      "text/plain": [
       "<seaborn.axisgrid.PairGrid at 0x205deafe5e0>"
      ]
     },
     "execution_count": 38,
     "metadata": {},
     "output_type": "execute_result"
    },
    {
     "data": {
      "image/png": "[encoded data removed]",
      "text/plain": [
       "<Figure size 720x720 with 20 Axes>"
      ]
     },
     "metadata": {
      "needs_background": "light"
     },
     "output_type": "display_data"
    }
   ],
   "source": [
    "sns.pairplot(d2[['NA_Sales', 'EU_Sales', 'JP_Sales', 'Global_Sales']])"
   ]
  },
  {
   "cell_type": "code",
   "execution_count": 39,
   "metadata": {},
   "outputs": [
    {
     "data": {
      "image/png": "[encoded data removed]",
      "text/plain": [
       "<Figure size 1296x1296 with 2 Axes>"
      ]
     },
     "metadata": {
      "needs_background": "light"
     },
     "output_type": "display_data"
    }
   ],
   "source": [
    "f,ax=plt.subplots(figsize = (18,18))\n",
    "sns.heatmap(d2.corr(),annot= True,linewidths=0.5,fmt = \".1f\",ax=ax)\n",
    "plt.xticks(rotation=90)\n",
    "plt.yticks(rotation=0)\n",
    "plt.title('Mapa de correlación')\n",
    "plt.savefig('graph.png')\n",
    "plt.show()"
   ]
  },
  {
   "cell_type": "markdown",
   "metadata": {},
   "source": [
    "Con estas gráficas podemos ver las relaciones y en donde convergen mis datos, así puedo hacer más rápido comparaciones."
   ]
  },
  {
   "cell_type": "markdown",
   "metadata": {},
   "source": [
    "Como conclusión, con todas las gráficas podemos ver como se comportan en ventas nuestros datos y ver en donde se vende mas, en comparación o como se dispersa las ventas y asi conseguir nuestras conclusiones de analisis de los nichos de mercado."
   ]
  },
  {
   "cell_type": "code",
   "execution_count": null,
   "metadata": {},
   "outputs": [],
   "source": []
  }
 ],
 "metadata": {
  "kernelspec": {
   "display_name": "Python 3",
   "language": "python",
   "name": "python3"
  },
  "language_info": {
   "codemirror_mode": {
    "name": "ipython",
    "version": 3
   },
   "file_extension": ".py",
   "mimetype": "text/x-python",
   "name": "python",
   "nbconvert_exporter": "python",
   "pygments_lexer": "ipython3",
   "version": "3.8.5"
  }
 },
 "nbformat": 4,
 "nbformat_minor": 4
}
