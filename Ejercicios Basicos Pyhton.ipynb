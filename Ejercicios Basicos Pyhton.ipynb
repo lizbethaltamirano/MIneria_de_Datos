{
 "cells": [
  {
   "cell_type": "code",
   "execution_count": 3,
   "metadata": {},
   "outputs": [
    {
     "name": "stdout",
     "output_type": "stream",
     "text": [
      "Lizbeth Altamirnao1732753\n"
     ]
    }
   ],
   "source": [
    "#EJERCICIO 1\n",
    "#Realiza una variable con tu matricula y realiza una secuencia de imprimir con tu nombre y tu matricula concatenados.\n",
    "a = \"Lizbeth Altamirnao\"\n",
    "mat = 1732753\n",
    "print (a+str(mat))"
   ]
  },
  {
   "cell_type": "code",
   "execution_count": 4,
   "metadata": {},
   "outputs": [
    {
     "name": "stdout",
     "output_type": "stream",
     "text": [
      "Introduce el primer número: 5\n",
      "Introduce el segundo número: 10\n",
      "\n",
      "La suma de los dos números es:  15\n",
      "La resta de los dos números es:  -5\n",
      "La multiplicación de los dos números es:  50\n",
      "La división de los dos números es:  0.5\n",
      "La exponente del primer numero con el segundo es:  9765625\n"
     ]
    }
   ],
   "source": [
    "#EJERCICIO 2\n",
    "#Pidiendo el input del usuario pide dos números y crea una pequeña calculadora con los operadores básicos de suma, resta, \n",
    "#multiplicación, división, y exponente.\n",
    "#Utilizando loop de while\n",
    "\n",
    "Utilizando el loop de while\n",
    "a = int(input(\"Introduce el primer número: \"))\n",
    "b = int(input(\"Introduce el segundo número: \"))\n",
    "\n",
    "c = a+b\n",
    "d = a-b\n",
    "e = a*b\n",
    "f = a/b\n",
    "g = a**b\n",
    "\n",
    "print()\n",
    "print(\"La suma de los dos números es: \",c)\n",
    "print(\"La resta de los dos números es: \",d)\n",
    "print(\"La multiplicación de los dos números es: \",e)\n",
    "print(\"La división de los dos números es: \",f)\n",
    "print(\"La exponente del primer numero con el segundo es: \",g)"
   ]
  },
  {
   "cell_type": "code",
   "execution_count": 5,
   "metadata": {},
   "outputs": [
    {
     "name": "stdout",
     "output_type": "stream",
     "text": [
      "[3, 6, 9, 12, 15, 18, 21, 24, 27, 30]\n",
      "\n",
      "La suma de todos los numeos es:  165\n"
     ]
    }
   ],
   "source": [
    "#EJERCICIO 3\n",
    "#Con loop while o for, realiza una lista de 10 numeros multiplos de 3, y después realiza una función de loop que \n",
    "#sume todos los números dentro del arreglo.\n",
    "import random\n",
    "cont = 0\n",
    "lista=[i*3 for i in range(1,11)]\n",
    "print(lista)\n",
    "for i in range(len(lista)):\n",
    "    cont=cont+lista[i]\n",
    "    \n",
    "print()\n",
    "print(\"La suma de todos los numeos es: \",cont)"
   ]
  },
  {
   "cell_type": "code",
   "execution_count": 7,
   "metadata": {},
   "outputs": [
    {
     "name": "stdout",
     "output_type": "stream",
     "text": [
      "Ingrese un número para revisar si es par o impar: 2\n",
      "\n",
      "El número es par\n",
      "Ingrese un número para revisar si es primo o no: 1\n",
      "\n",
      "El número no es primo\n"
     ]
    }
   ],
   "source": [
    "#EJERCICIO 4\n",
    "#Con una función de if else, revisar si un número es par o es impar.\n",
    "#Con una función de if else, revisar si un número es primo o no.\n",
    "a = int(input(\"Ingrese un número para revisar si es par o impar: \"))\n",
    "\n",
    "if a%2==0:\n",
    "    print()\n",
    "    print(\"El número es par\")\n",
    "else: \n",
    "    print()\n",
    "    print(\"El número es impar\")\n",
    "\n",
    "b = int(input(\"Ingrese un número para revisar si es primo o no: \"))\n",
    "cont = 0\n",
    "\n",
    "for n in range(1, b+1):\n",
    "    if(b%n == 0):\n",
    "        cont==cont+1\n",
    "    \n",
    "    if cont == 2:\n",
    "        print()\n",
    "        print(\"El número si es primo\")\n",
    "    else:\n",
    "        print()\n",
    "        print(\"El número no es primo\")"
   ]
  },
  {
   "cell_type": "code",
   "execution_count": 29,
   "metadata": {},
   "outputs": [
    {
     "name": "stdout",
     "output_type": "stream",
     "text": [
      "MENU\n",
      "\n",
      "1.Suma\n",
      "2.Resta\n",
      "3.Multiplicación\n",
      "4.División\n",
      "5.Exponente\n",
      "6.Salir\n",
      "\n",
      "¿Qué desea realizar?: 1\n",
      "\n",
      "Ingrese un numéro: 10\n",
      "Ingrese un segundo número: 2\n",
      "\n",
      "Suma =  12\n"
     ]
    }
   ],
   "source": [
    "#EJERECICIO 5\n",
    "#Utilizando diferentes clases en python, crea una calculadora con los operadores básicos de suma, resta, multiplicación,\n",
    "#división, y exponente.\n",
    "def Suma(a,b):\n",
    "    c=a+b\n",
    "    return c\n",
    "def Resta(a,b):\n",
    "    c=a-b\n",
    "    return c\n",
    "def Multiplicacion(a,b):\n",
    "    c=a*b\n",
    "    return c\n",
    "def División(a,b):\n",
    "    c=a/b\n",
    "    return c\n",
    "def Exponente(a,b):\n",
    "    c=a**b\n",
    "    return c\n",
    "\n",
    "def Menu():  \n",
    "    print (\"MENU\\n\\n1.Suma\\n2.Resta\\n3.Multiplicación\\n4.División\\n5.Exponente\\n6.Salir\")\n",
    "def Calculadora():\n",
    "    Menu()\n",
    "    print()\n",
    "    opc = int(input(\"¿Qué desea realizar?: \"))\n",
    "    print()\n",
    "    a = int(input(\"Ingrese un numéro: \"))\n",
    "    b = int(input(\"Ingrese un segundo número: \"))\n",
    "    while (opc >0 and opc <6):\n",
    "        if (opc==1):\n",
    "            print()\n",
    "            print (\"Suma = \",Suma(a,b))\n",
    "            break\n",
    "        elif(opc==2):\n",
    "            print()\n",
    "            print (\"Resta =\",Resta(a,b))\n",
    "            break\n",
    "        elif(opc==3):\n",
    "            print()\n",
    "            print (\"Multiplicación =\", Multiplicacion(a,b))\n",
    "            break\n",
    "        elif(opc==4):\n",
    "            print()\n",
    "            print (\"División = \", Division(a,b))\n",
    "            break            \n",
    "        elif(opc==5):\n",
    "            print()\n",
    "            print (\"Exponente =\", Exponente(a,b))\n",
    "            break\n",
    "            \n",
    "Calculadora()\n"
   ]
  },
  {
   "cell_type": "code",
   "execution_count": 30,
   "metadata": {},
   "outputs": [
    {
     "ename": "SyntaxError",
     "evalue": "invalid syntax (<ipython-input-30-281a223dbb83>, line 65)",
     "output_type": "error",
     "traceback": [
      "\u001b[1;36m  File \u001b[1;32m\"<ipython-input-30-281a223dbb83>\"\u001b[1;36m, line \u001b[1;32m65\u001b[0m\n\u001b[1;33m    else:\u001b[0m\n\u001b[1;37m    ^\u001b[0m\n\u001b[1;31mSyntaxError\u001b[0m\u001b[1;31m:\u001b[0m invalid syntax\n"
     ]
    }
   ],
   "source": [
    "#TUPLAS\n",
    "#Crear una variable flotante, integer, boleana y compleja e imprimir el tipo de variable que es.\n",
    "#Crear una tupla con valores enteros imprimir el primer y ultimo valor.\n",
    "#Añadir 3 valores de string a la tupla.\n",
    "#Verificar si una variable existe dentro de la tupla.\n",
    "import os\n",
    "\n",
    "os.system('cls ')\n",
    "\n",
    "a = 5.5\n",
    "b = 1\n",
    "c = True\n",
    "d = 'hola'\n",
    "print('Variables: ',str(a),',',str(b),',',str(c),',',str(d))\n",
    "print('',type(a),'\\n',type(b),'\\n',type(c),'\\n',type(d))\n",
    "\n",
    "\n",
    "tup = (1,2,3,4,5,6,7,8,9)\n",
    "z = len(tup)\n",
    "print(str(' Tupla:'),str(tup))\n",
    "print(' Primer Valor: ',str(tup[0]),'\\n','Ultimo Valor: ',str(tup[z-1]))\n",
    "\n",
    "\n",
    "print('Tupla antes de agregar strings:',str(tup),'\\n')\n",
    "str1 = str(input('Ingrese primer String: '))\n",
    "str2 = str(input('Ingrese segundo String: '))\n",
    "str3 = str(input('Ingrese tercer String: '))\n",
    "tup = tup + (str1, str2, str3)\n",
    "print('\\nTupla despues de agregar strings:',str(tup))\n",
    "while(True):\n",
    "    print('Tupla:',str(tup),'\\n\\nQuieres verificar strings o numeros? (Escribe S o N):')\n",
    "    x = str(input())\n",
    "    if x == 'S':\n",
    "        x = str(input('\\nIngresa string a verificar (Caps sensitive): '))\n",
    "        y = x in tup\n",
    "        if y == True:\n",
    "            print('\\nSi esta en la tupla')\n",
    "            exit()\n",
    "        else:\n",
    "            print('\\nNo esta en la tupla')\n",
    "            exit()\n",
    "    elif x == 's':\n",
    "        x = str(input('\\nIngresa string a verificar (Caps sensitive): '))\n",
    "        y = x in tup\n",
    "        if y == True:\n",
    "            print('\\nSi esta en la tupla')\n",
    "            exit()\n",
    "        else:\n",
    "            print('\\nNo esta en la tupla')\n",
    "            exit()\n",
    "    elif x == 'N':\n",
    "        x = int(input('\\nIngresa numero a verificar: '))\n",
    "        y = x in tup\n",
    "        if y == True:\n",
    "            print('\\nSi esta en la tupla')\n",
    "            exit()\n",
    "        else:\n",
    "            print('\\nNo esta en la tupla')\n",
    "            exit()\n",
    "    elif x == 'n':\n",
    "        x = int(input('\\nIngresa numero a verificar: '))\n",
    "        y = x in tup\n",
    "        if y == True:\n",
    "            print('\\nSi esta en la tupla')\n",
    "            exit()\n",
    "        else:\n",
    "            print('\\nNo esta en la tupla')\n",
    "            exit()\n",
    "        else:\n",
    "            print('Opcion no valida')\n"
   ]
  },
  {
   "cell_type": "code",
   "execution_count": 31,
   "metadata": {},
   "outputs": [
    {
     "name": "stdout",
     "output_type": "stream",
     "text": [
      "[405, 322, 407, 707, 753, 640, 994, 523, 212, 706, 583, 309, 823, 9, 147, 911, 503, 213, 920, 463, 117, 627, 205, 966, 190, 254, 492, 975, 270, 101, 474, 251, 232, 998, 426, 197, 509, 869, 808, 846]\n",
      "Lista de números pares:  [322, 640, 994, 212, 706, 920, 966, 190, 254, 492, 270, 474, 232, 998, 426, 808, 846]\n",
      "Lista de impares:  [405, 407, 707, 753, 523, 583, 309, 823, 9, 147, 911, 503, 213, 463, 117, 627, 205, 975, 101, 251, 197, 509, 869]\n",
      "Los pares miden:  17\n",
      "Los impares miden:  23\n",
      " Funciones de listas\n",
      "\n",
      " Imprimir los primeros 5 datos\n",
      "[405, 322, 407, 707]\n",
      " Ordenar la lista de menor a mayor\n",
      "[9, 101, 117, 147, 190, 197, 205, 212, 213, 232, 251, 254, 270, 309, 322, 405, 407, 426, 463, 474, 492, 503, 509, 523, 583, 627, 640, 706, 707, 753, 808, 823, 846, 869, 911, 920, 966, 975, 994, 998]\n",
      " Eliminar el ultimo elemento\n",
      "[9, 101, 117, 147, 190, 197, 205, 212, 213, 232, 251, 254, 270, 309, 322, 405, 407, 426, 463, 474, 492, 503, 509, 523, 583, 627, 640, 706, 707, 753, 808, 823, 846, 869, 911, 920, 966, 975, 994]\n"
     ]
    }
   ],
   "source": [
    "#LISTAS\n",
    "#Crear una lista con 40 elementos aleatorios enteros.\n",
    "#Con una funcion (def) crear dos listas nuevas a partir de la lista creada por numeros aleatorios, en la cual en una esten los elementos pares, y en la otra los elementos impares.\n",
    "#Crear dos variables con la longitud de ambas listas nuevas e imprimir las variables.\n",
    "#Ordenar los elementos de la lista par de mayor a menor, y los de la lista impar de menor a mayor.\n",
    "#Utilizar al menos cuatro de las funciones de listas en python en la lista original de 40 elementos.\n",
    "import random\n",
    "\n",
    "lista = [0]  * 40\n",
    "for i in range(0,40,1):\n",
    "    lista[i] = random.randint(0, 1000)\n",
    "\n",
    "print(lista)\n",
    "\n",
    "def NumParImp(lista):\n",
    "    impares=[]\n",
    "    pares=[]\n",
    "    for i in range(len(lista)):\n",
    "        if lista[i]%2==0:\n",
    "            pares.append(lista[i])\n",
    "        else:\n",
    "            impares.append(lista[i])\n",
    "    return pares,impares\n",
    "\n",
    "pares,impares=NumParImp(lista)\n",
    "print(\"Lista de números pares: \",pares)\n",
    "print(\"Lista de impares: \",impares)\n",
    "\n",
    "par=len(pares)\n",
    "print (\"Los pares miden: \", par)\n",
    "\n",
    "impar=len(impares)\n",
    "print (\"Los impares miden: \", impar)\n",
    "\n",
    "print(\" Funciones de listas\")\n",
    "print()\n",
    "print (\" Imprimir los primeros 5 datos\")\n",
    "print (lista[0:4])\n",
    "print (\" Ordenar la lista de menor a mayor\")\n",
    "ordenar= lista.sort()\n",
    "print (lista)\n",
    "print (\" Eliminar el ultimo elemento\")\n",
    "removed= lista.pop()\n",
    "print (lista)"
   ]
  },
  {
   "cell_type": "code",
   "execution_count": 32,
   "metadata": {},
   "outputs": [
    {
     "name": "stdout",
     "output_type": "stream",
     "text": [
      "[15, 65, 20, 20, 21, 23]\n",
      "\n",
      "[15, 20, 20, 21, 23, 65]\n",
      "\n",
      "Luis\n",
      "Manuel\n",
      "Mariann\n",
      "Liz\n",
      "Oscar\n",
      "Marisol\n",
      "\n",
      "{'Luis': 15, 'Manuel': 65, 'Mariann': 20, 'Liz': 20, 'Oscar': 21, 'Marisol': 23, 'Melany': 20, 'Diego': 27}\n"
     ]
    }
   ],
   "source": [
    "#DICCIONARIOS\n",
    "#Crear un diccionario de 6 personas que conozcas con su primer nombre y su edad.\n",
    "#Crear una lista con los valores de la edad y reacomodar la lista de menor a mayor valor.\n",
    "#Usando el diccionario y un loop, imprimir solo los nombres.\n",
    "#Añadir dos personas nuevas a tu diccionario, incluyendo edad\n",
    "dicc ={\"Luis\":15,\"Manuel\":65,\"Mariann\":20,\"Liz\":20,\"Oscar\":21,\"Marisol\":23}\n",
    "\n",
    "edad = [i for i in dicc.values()]\n",
    "print (edad)\n",
    "\n",
    "print()\n",
    "edad.sort()\n",
    "print (edad)\n",
    "\n",
    "print()\n",
    "for i in dicc:\n",
    "    print (i)\n",
    "    \n",
    "print()\n",
    "dicc[\"Melany\"]=20\n",
    "dicc[\"Diego\"]=27\n",
    "\n",
    "print (dicc)\n"
   ]
  },
  {
   "cell_type": "code",
   "execution_count": 33,
   "metadata": {},
   "outputs": [
    {
     "name": "stdout",
     "output_type": "stream",
     "text": [
      "{1, 2, 3, 4, 5, 6, 7, 8, 9, 10, 11, 12, 13, 14, 15, 16, 17, 18, 19, 20, 21, 22, 23, 24, 25}\n",
      "\n",
      "25\n",
      "\n",
      "[5, 1, 8, 2, 5]\n",
      "\n",
      "Se encuentra en:  5 True\n",
      "Se encuentra en:  1 True\n",
      "Se encuentra en:  8 True\n",
      "Se encuentra en:  2 True\n",
      "Se encuentra en:  5 True\n"
     ]
    }
   ],
   "source": [
    "#SETS\n",
    "#Crea un set con 100 numeros aleatorios enteros del 1 al 25.\n",
    "#Comprueba la longitud de tu set.\n",
    "#Crea una lista de 5 numeros aleatorios del 1 al 10 y comprueba si cada valor aparece en el set inicial.\n",
    "import random as r\n",
    "\n",
    "a={r.randint(1,25) for i in range(100)}\n",
    "print (a)    \n",
    "\n",
    "print()\n",
    "print (len (a))\n",
    "\n",
    "print()\n",
    "b=[r.randint(1,10) for i in range(5)]\n",
    "print (b)\n",
    "\n",
    "print()\n",
    "for i in range(len(b)):\n",
    "    print(\"Se encuentra en: \", b[i], b[i] in a)"
   ]
  },
  {
   "cell_type": "code",
   "execution_count": null,
   "metadata": {},
   "outputs": [],
   "source": []
  }
 ],
 "metadata": {
  "kernelspec": {
   "display_name": "Python 3",
   "language": "python",
   "name": "python3"
  },
  "language_info": {
   "codemirror_mode": {
    "name": "ipython",
    "version": 3
   },
   "file_extension": ".py",
   "mimetype": "text/x-python",
   "name": "python",
   "nbconvert_exporter": "python",
   "pygments_lexer": "ipython3",
   "version": "3.8.5"
  }
 },
 "nbformat": 4,
 "nbformat_minor": 4
}
